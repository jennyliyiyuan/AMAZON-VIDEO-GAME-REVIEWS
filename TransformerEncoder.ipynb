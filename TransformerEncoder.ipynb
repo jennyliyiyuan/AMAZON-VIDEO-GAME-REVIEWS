{
  "nbformat": 4,
  "nbformat_minor": 0,
  "metadata": {
    "colab": {
      "provenance": [],
      "gpuType": "T4"
    },
    "kernelspec": {
      "name": "python3",
      "display_name": "Python 3"
    },
    "language_info": {
      "name": "python"
    },
    "accelerator": "GPU"
  },
  "cells": [
    {
      "cell_type": "markdown",
      "source": [
        "# Data Pre-Processing"
      ],
      "metadata": {
        "id": "NXJAEKGQlTd_"
      }
    },
    {
      "cell_type": "markdown",
      "source": [
        "## Data Loading"
      ],
      "metadata": {
        "id": "qBQxl_39lkWm"
      }
    },
    {
      "cell_type": "code",
      "execution_count": 6,
      "metadata": {
        "id": "ou1j5a-rjjb5",
        "colab": {
          "base_uri": "https://localhost:8080/"
        },
        "outputId": "e69f0d4f-d5d5-48f2-8f2f-66b2c4b9e661"
      },
      "outputs": [
        {
          "output_type": "stream",
          "name": "stdout",
          "text": [
            "Using gpu: False \n"
          ]
        }
      ],
      "source": [
        "### import libraries\n",
        "# download via API/Internet\n",
        "import os\n",
        "import json\n",
        "import gzip\n",
        "from urllib.request import urlopen\n",
        "# data handling\n",
        "import numpy as np\n",
        "import pandas as pd\n",
        "from string import punctuation\n",
        "from collections import Counter\n",
        "from sklearn.model_selection import train_test_split\n",
        "# data visualization\n",
        "import seaborn as sns\n",
        "import matplotlib.pyplot as plt\n",
        "from sklearn.metrics import confusion_matrix\n",
        "import itertools\n",
        "from matplotlib import colormaps\n",
        "# pytorch\n",
        "import torch\n",
        "from torch import nn\n",
        "from torch import optim\n",
        "from torch.utils.data import TensorDataset, DataLoader\n",
        "\n",
        "# check if GPU is available (better to check it at the start)\n",
        "device = torch.device(\"cuda:0\" if torch.cuda.is_available() else \"cpu\")\n",
        "print('Using gpu: %s ' % torch.cuda.is_available())\n",
        "\n",
        "# first checking if GPU is available\n",
        "# gpu_available = torch.cuda.is_available()\n",
        "\n",
        "# if(gpu_available):\n",
        "#     print('Training on GPU.')\n",
        "# else:\n",
        "#     print('No GPU available, training on CPU.')"
      ]
    },
    {
      "cell_type": "code",
      "source": [
        "### download the data from link\n",
        "# complete data (2,565,349 reviews)\n",
        "# !wget https://datarepo.eng.ucsd.edu/mcauley_group/data/amazon_v2/categoryFiles/Video_Games.json.gz\n",
        "\n",
        "# small subset of data (497,577 reviews)\n",
        "!wget https://datarepo.eng.ucsd.edu/mcauley_group/data/amazon_v2/categoryFilesSmall/Video_Games_5.json.gz\n",
        "\n",
        "# games information\n",
        "# !wget https://datarepo.eng.ucsd.edu/mcauley_group/data/amazon_v2/metaFiles2/meta_Video_Games.json.gz"
      ],
      "metadata": {
        "colab": {
          "base_uri": "https://localhost:8080/"
        },
        "id": "FliHuoNXVXhw",
        "outputId": "61f0abea-3baf-499c-fd41-c75e567bc8da"
      },
      "execution_count": 5,
      "outputs": [
        {
          "output_type": "stream",
          "name": "stdout",
          "text": [
            "--2023-12-11 04:53:59--  https://datarepo.eng.ucsd.edu/mcauley_group/data/amazon_v2/categoryFilesSmall/Video_Games_5.json.gz\n",
            "Resolving datarepo.eng.ucsd.edu (datarepo.eng.ucsd.edu)... 132.239.8.30\n",
            "Connecting to datarepo.eng.ucsd.edu (datarepo.eng.ucsd.edu)|132.239.8.30|:443... connected.\n",
            "HTTP request sent, awaiting response... 200 OK\n",
            "Length: 154050105 (147M) [application/x-gzip]\n",
            "Saving to: ‘Video_Games_5.json.gz’\n",
            "\n",
            "Video_Games_5.json.  61%[===========>        ]  91.09M  41.9MB/s               ^C\n"
          ]
        }
      ]
    },
    {
      "cell_type": "code",
      "source": [
        "### load reviews and meta data\n",
        "# reviews\n",
        "data_rev = []\n",
        "with gzip.open('Video_Games_5.json.gz') as f:\n",
        "    for l in f:\n",
        "        data_rev.append(json.loads(l.strip()))\n",
        "\n",
        "# total length of list, this number equals total number of products\n",
        "print(len(data_rev))\n",
        "\n",
        "# first row of the list\n",
        "print(data_rev[0])\n",
        "\n",
        "# convert dictionary to dataframe\n",
        "df_rev = pd.DataFrame.from_dict(data_rev)\n",
        "\n",
        "# game data\n",
        "# data_game = []\n",
        "# with gzip.open('meta_Video_Games.json.gz') as f:\n",
        "#     for l in f:\n",
        "#         data_game.append(json.loads(l.strip()))\n",
        "\n",
        "# # total length of list, this number equals total number of products\n",
        "# print(len(data_game))\n",
        "\n",
        "# # first row of the list\n",
        "# print(data_game[0])\n",
        "\n",
        "# # convert dictionary to dataframe\n",
        "# df_game = pd.DataFrame.from_dict(data_game)"
      ],
      "metadata": {
        "colab": {
          "base_uri": "https://localhost:8080/"
        },
        "id": "hyP_uDd0VZhI",
        "outputId": "79357b73-f640-4a2a-fd20-8aaf4d9e2b7c"
      },
      "execution_count": 3,
      "outputs": [
        {
          "output_type": "stream",
          "name": "stdout",
          "text": [
            "497577\n",
            "{'overall': 5.0, 'verified': True, 'reviewTime': '10 17, 2015', 'reviewerID': 'A1HP7NVNPFMA4N', 'asin': '0700026657', 'reviewerName': 'Ambrosia075', 'reviewText': \"This game is a bit hard to get the hang of, but when you do it's great.\", 'summary': \"but when you do it's great.\", 'unixReviewTime': 1445040000}\n"
          ]
        }
      ]
    },
    {
      "cell_type": "markdown",
      "source": [
        "## Data Cleaning"
      ],
      "metadata": {
        "id": "K6Pvs0WClqgI"
      }
    },
    {
      "cell_type": "code",
      "source": [
        "### select relevant variables\n",
        "non_relevant_rev = [\"verified\", \"reviewTime\", \"reviewerName\", \"vote\", \"style\", \"image\", \"unixReviewTime\"]\n",
        "df_clean = df_rev.drop(non_relevant_rev, axis = 1)\n",
        "\n",
        "# non_relevant_game = [\"title\", \"feature\", \"description\", \"price\", \"imageURL\", \"related\", \"salesRank\", \"brand\", \"tech1\", \"tech2\", \"similar\"]\n",
        "# df_game = df_rev.drop(non_relevant_game, axis = 1)\n",
        "\n",
        "# fill blank spaces with NaN\n",
        "df_clean = df_clean.fillna('')\n",
        "\n",
        "# check for NaN\n",
        "df_clean.isnull().sum()"
      ],
      "metadata": {
        "colab": {
          "base_uri": "https://localhost:8080/"
        },
        "id": "-WllY41tVcIR",
        "outputId": "2cbd3d00-734c-4750-b496-b17b10fa94f5"
      },
      "execution_count": 4,
      "outputs": [
        {
          "output_type": "execute_result",
          "data": {
            "text/plain": [
              "overall       0\n",
              "reviewerID    0\n",
              "asin          0\n",
              "reviewText    0\n",
              "summary       0\n",
              "dtype: int64"
            ]
          },
          "metadata": {},
          "execution_count": 4
        }
      ]
    },
    {
      "cell_type": "markdown",
      "source": [
        "### Removing Punctuation"
      ],
      "metadata": {
        "id": "Kiuhi3F_mqo-"
      }
    },
    {
      "cell_type": "code",
      "source": [
        "### remove punctuations from reviews and summary\n",
        "# lower case all reviews\n",
        "df_clean[\"reviewText\"] = df_clean[\"reviewText\"].apply(lambda x: x.lower())\n",
        "\n",
        "# get rid of punctuation and newline\n",
        "df_clean[\"reviewText\"] = df_clean[\"reviewText\"].str.replace(r'[^\\w\\s]+', '', regex = True).str.replace(\"\\n\", \" \")\n",
        "\n",
        "# concatanate reviews in an array\n",
        "reviews_words = list([word for review in df_clean[\"reviewText\"].str.split() for word in review]) # numpy array consumes to much RAM"
      ],
      "metadata": {
        "id": "VjyVT-pUVdHY"
      },
      "execution_count": 5,
      "outputs": []
    },
    {
      "cell_type": "markdown",
      "source": [
        "### Remove Duplicates"
      ],
      "metadata": {
        "id": "e2vRz3t1mu1e"
      }
    },
    {
      "cell_type": "code",
      "source": [
        "### handling duplicates\n",
        "print(len(df_clean)) # with duplicates\n",
        "# get number of duplicates\n",
        "# df_dup = df_clean[df_clean.duplicated(keep = False)]\n",
        "\n",
        "# remove duplicates\n",
        "df_clean = df_clean.drop_duplicates()\n",
        "print(len(df_clean)) # no duplicates"
      ],
      "metadata": {
        "colab": {
          "base_uri": "https://localhost:8080/"
        },
        "id": "b0FDMg-KWg1x",
        "outputId": "2f1e0373-0ba4-4dc8-c0b4-ace791392c8e"
      },
      "execution_count": 6,
      "outputs": [
        {
          "output_type": "stream",
          "name": "stdout",
          "text": [
            "497577\n",
            "474149\n"
          ]
        }
      ]
    },
    {
      "cell_type": "markdown",
      "source": [
        "### Format the Labels"
      ],
      "metadata": {
        "id": "q1x0oS8mm17G"
      }
    },
    {
      "cell_type": "code",
      "source": [
        "### changing ratings (overall) to labels (negative = 0, neutral = 1, positive = 2)\n",
        "df_clean = df_clean.replace({\"overall\": {1: 0, 2: 0, 3: 1, 4: 2, 5: 2}}) # .map can also be used\n",
        "df_clean[\"overall\"].value_counts()"
      ],
      "metadata": {
        "colab": {
          "base_uri": "https://localhost:8080/"
        },
        "id": "UhSa2N17nWKm",
        "outputId": "d1f0dffc-0254-4ca7-9fd9-3cf08f7c4609"
      },
      "execution_count": 7,
      "outputs": [
        {
          "output_type": "execute_result",
          "data": {
            "text/plain": [
              "2.0    375604\n",
              "0.0     51984\n",
              "1.0     46561\n",
              "Name: overall, dtype: int64"
            ]
          },
          "metadata": {},
          "execution_count": 7
        }
      ]
    },
    {
      "cell_type": "markdown",
      "source": [
        "## Encoding the Words & Labels"
      ],
      "metadata": {
        "id": "F8GBR0tdl1sV"
      }
    },
    {
      "cell_type": "code",
      "source": [
        "# # TESTING DE RAM (small subset)\n",
        "# df_clean = df_clean[:100000]\n",
        "# df_clean[\"overall\"].value_counts()\n",
        "# reviews_words = list([word for review in df_clean[\"reviewText\"].str.split() for word in review])"
      ],
      "metadata": {
        "id": "oQIkowU9uP1I"
      },
      "execution_count": 8,
      "outputs": []
    },
    {
      "cell_type": "markdown",
      "source": [
        "### Vocabulary"
      ],
      "metadata": {
        "id": "DbueHx1VnCNG"
      }
    },
    {
      "cell_type": "code",
      "source": [
        "### creating the vocabulary\n",
        "counts = Counter(reviews_words) # create dictionary with frequency of appereance\n",
        "vocab = sorted(counts, key = counts.get, reverse = True) # create vocabulary ordered by frequency\n",
        "\n",
        "# map the words to integers\n",
        "vocab_to_int = {word: indx+1 for indx, word in enumerate(vocab)}\n",
        "\n",
        "# tokenize the reviews\n",
        "reviews_ints = []\n",
        "for review in df_clean[\"reviewText\"]: # remember to change the samll dataset\n",
        "    reviews_ints.append([vocab_to_int[word] for word in review.split()])"
      ],
      "metadata": {
        "id": "3mc0_SkzVeXI"
      },
      "execution_count": 9,
      "outputs": []
    },
    {
      "cell_type": "code",
      "source": [
        "# stats about vocabulary\n",
        "print('Unique words: ', len((vocab_to_int)))  # should ~ 74000+\n",
        "print()\n",
        "\n",
        "# print tokens in first review\n",
        "print('Tokenized review: \\n', reviews_ints[0])"
      ],
      "metadata": {
        "colab": {
          "base_uri": "https://localhost:8080/"
        },
        "id": "YMbrghjyv424",
        "outputId": "e13c2a3e-64a0-46df-a1ac-e0586f96392b"
      },
      "execution_count": 10,
      "outputs": [
        {
          "output_type": "stream",
          "name": "stdout",
          "text": [
            "Unique words:  352843\n",
            "\n",
            "Tokenized review: \n",
            " [11, 10, 7, 4, 160, 169, 3, 36, 1, 1638, 5, 15, 55, 8, 59, 22, 43]\n"
          ]
        }
      ]
    },
    {
      "cell_type": "markdown",
      "source": [
        "### Removing Outliers"
      ],
      "metadata": {
        "id": "mxwqmHz-nODe"
      }
    },
    {
      "cell_type": "code",
      "source": [
        "### reviews for outliers\n",
        "review_lens = Counter([len(x) for x in reviews_ints])\n",
        "print(\"Zero-length reviews: {}\".format(review_lens[0])) # review_lens[0] counts the number of reviews with zero length\n",
        "print(\"Maximum review length: {}\".format(max(review_lens)))\n",
        "\n",
        "# list of review lenghts\n",
        "review_lens = [len(x) for x in reviews_ints]"
      ],
      "metadata": {
        "colab": {
          "base_uri": "https://localhost:8080/"
        },
        "id": "t8mE9_rDfEbD",
        "outputId": "fe63ae9b-15a6-4d4d-a056-676625285cd4"
      },
      "execution_count": 11,
      "outputs": [
        {
          "output_type": "stream",
          "name": "stdout",
          "text": [
            "Zero-length reviews: 410\n",
            "Maximum review length: 5875\n"
          ]
        }
      ]
    },
    {
      "cell_type": "code",
      "source": [
        "### replacing 0 length reviews with summary (still thinking to implementing or not)\n",
        "zeros = [z for z in range(len(reviews_ints)) if len(reviews_ints[z]) == 0]\n",
        "\n",
        "# for z in zeros:\n",
        "#   if len(df_clean.iloc[z, 4]) >= 3:\n",
        "#     df_clean.iloc[z, 3] = df_clean.iloc[z, 4]\n",
        "\n",
        "# using numpy array (with large datasets occupies too much RAM space)\n",
        "# lents = np.array(lents)\n",
        "# zeros = np.where(review_lens == 0)[0]\n"
      ],
      "metadata": {
        "id": "cu4irZkSpIvW"
      },
      "execution_count": 12,
      "outputs": []
    },
    {
      "cell_type": "code",
      "source": [
        "### remove outliers: any length == 0\n",
        "print('Number of reviews before removing outliers: ', len(reviews_ints))\n",
        "\n",
        "# get indices of any reviews with more than 0 length\n",
        "non_zero_idx = [ii for ii, review in enumerate(reviews_ints) if len(review) != 0]\n",
        "\n",
        "# remove 0-length reviews and their labels | get the reviews with more than 0 length\n",
        "reviews_ints = [reviews_ints[ii] for ii in non_zero_idx]\n",
        "encoded_labels = np.array([df_clean.iloc[ii, 0] for ii in non_zero_idx])\n",
        "\n",
        "print('Number of reviews after removing outliers: ', len(reviews_ints))"
      ],
      "metadata": {
        "colab": {
          "base_uri": "https://localhost:8080/"
        },
        "id": "qvkatHQe8gej",
        "outputId": "972c7b22-47ef-446b-ca3f-9f7095df1803"
      },
      "execution_count": 13,
      "outputs": [
        {
          "output_type": "stream",
          "name": "stdout",
          "text": [
            "Number of reviews before removing outliers:  474149\n",
            "Number of reviews after removing outliers:  473739\n"
          ]
        }
      ]
    },
    {
      "cell_type": "code",
      "source": [
        "# histogram of length of reviews\n",
        "plt.figure(figsize=(6, 6))\n",
        "sns.histplot(review_lens, color ='blue', bins = 50)\n",
        "plt.title('Histogram of Review Lengths')\n",
        "plt.xlabel('Number of appearances')\n",
        "plt.ylabel('Length Review')\n",
        "plt.show()"
      ],
      "metadata": {
        "colab": {
          "base_uri": "https://localhost:8080/",
          "height": 564
        },
        "id": "k2AUByZCoDA9",
        "outputId": "bb570982-56fe-4c08-b2e2-b492bbc8bf45"
      },
      "execution_count": 14,
      "outputs": [
        {
          "output_type": "display_data",
          "data": {
            "text/plain": [
              "<Figure size 600x600 with 1 Axes>"
            ],
            "image/png": "[encoded data removed]"
          },
          "metadata": {}
        }
      ]
    },
    {
      "cell_type": "markdown",
      "source": [
        "### Padding / Truncating"
      ],
      "metadata": {
        "id": "yI-CTRBsmbOW"
      }
    },
    {
      "cell_type": "code",
      "source": [
        "### function to padd or truncate the reviews\n",
        "def pad_features(reviews_ints, seq_length):\n",
        "\n",
        "    # getting the correct rows x cols shape\n",
        "    features = np.zeros((len(reviews_ints), seq_length), dtype=int)\n",
        "\n",
        "    # for each review, I grab that review and put it into features\n",
        "    for i, row in enumerate(reviews_ints):\n",
        "        features[i, -len(row):] = np.array(row)[:seq_length]\n",
        "\n",
        "    return features"
      ],
      "metadata": {
        "id": "d_diiVh_OIry"
      },
      "execution_count": 15,
      "outputs": []
    },
    {
      "cell_type": "code",
      "source": [
        "### padd/truncate the reviews\n",
        "# length of the reviews selected (can be changed and treated as hyperparameter)\n",
        "seq_length = 200\n",
        "\n",
        "reviews_pad = pad_features(reviews_ints, seq_length = seq_length)\n",
        "\n",
        "## test statements - do not change - ##\n",
        "assert len(reviews_pad) == len(reviews_ints), \"features should have as many rows as reviews.\"\n",
        "assert len(reviews_pad[0]) == seq_length, \"all feature rows should contain seq_length values.\""
      ],
      "metadata": {
        "id": "MsZ5_byZOToJ"
      },
      "execution_count": 16,
      "outputs": []
    },
    {
      "cell_type": "markdown",
      "source": [
        "## Training, Validation & Testing"
      ],
      "metadata": {
        "id": "QMRd0bucniRY"
      }
    },
    {
      "cell_type": "code",
      "source": [
        "### split data into train, test, and validation\n",
        "reviews_train, reviews_valtest, train_labels, valtest_labels = train_test_split(reviews_pad, encoded_labels, test_size = 0.2, random_state = 69, shuffle = True)\n",
        "\n",
        "reviews_val, reviews_test, val_labels, test_labels = train_test_split(reviews_valtest, valtest_labels, test_size = 0.5, random_state = 69, shuffle = True)\n",
        "\n",
        "print(\"\\t\\t\\tFeature Shapes: Percentages:\")\n",
        "print(\"Train set: \\t\\t{} \\t80%\".format(reviews_train.shape),\n",
        "      \"\\nValidation set: \\t{} \\t10%\".format(reviews_val.shape),\n",
        "      \"\\nTest set: \\t\\t{} \\t10%\".format(reviews_test.shape))"
      ],
      "metadata": {
        "id": "h9jiq-zNPHDR",
        "colab": {
          "base_uri": "https://localhost:8080/"
        },
        "outputId": "63fb2995-7e77-4db6-d24a-0ce112831185"
      },
      "execution_count": 17,
      "outputs": [
        {
          "output_type": "stream",
          "name": "stdout",
          "text": [
            "\t\t\tFeature Shapes: Percentages:\n",
            "Train set: \t\t(378991, 200) \t80% \n",
            "Validation set: \t(47374, 200) \t10% \n",
            "Test set: \t\t(47374, 200) \t10%\n"
          ]
        }
      ]
    },
    {
      "cell_type": "markdown",
      "source": [
        "## DataLoaders & Batching"
      ],
      "metadata": {
        "id": "SYTWXnnZn1TP"
      }
    },
    {
      "cell_type": "code",
      "source": [
        "### create Tensor datsets\n",
        "train_data = TensorDataset(torch.from_numpy(reviews_train), torch.from_numpy(train_labels))\n",
        "valid_data = TensorDataset(torch.from_numpy(reviews_val), torch.from_numpy(val_labels))\n",
        "test_data = TensorDataset(torch.from_numpy(reviews_test), torch.from_numpy(test_labels))\n",
        "\n",
        "# select batch size\n",
        "batch_size = 64 # 32/64/218\n",
        "\n",
        "# make sure the SHUFFLE your training data\n",
        "# drop_last=True will drop the last batch if the size is less than the given batch_size\n",
        "train_loader = DataLoader(train_data, shuffle = True, batch_size = batch_size,  drop_last = True)\n",
        "valid_loader = DataLoader(valid_data, shuffle = True, batch_size = batch_size, drop_last = True)\n",
        "test_loader = DataLoader(test_data, shuffle = True, batch_size = batch_size, drop_last = True)"
      ],
      "metadata": {
        "id": "kG7DKOt6kkAP"
      },
      "execution_count": 18,
      "outputs": []
    },
    {
      "cell_type": "code",
      "source": [
        "### testing the dataloaders\n",
        "dataiter = iter(train_loader)\n",
        "sample_x, sample_y = next(dataiter) # 1 batch\n",
        "\n",
        "print('Sample input size: ', sample_x.size()) # batch_size, seq_length\n",
        "print('Sample input: \\n', sample_x)\n",
        "print()\n",
        "print('Sample label size: ', sample_y.size()) # batch_size\n",
        "print('Sample label: \\n', sample_y)"
      ],
      "metadata": {
        "colab": {
          "base_uri": "https://localhost:8080/"
        },
        "id": "fjXIwQMgrdGD",
        "outputId": "569e7313-5399-409f-9082-6c96a8bf1152"
      },
      "execution_count": 19,
      "outputs": [
        {
          "output_type": "stream",
          "name": "stdout",
          "text": [
            "Sample input size:  torch.Size([64, 200])\n",
            "Sample input: \n",
            " tensor([[   0,    0,    0,  ...,    0, 2559, 3856],\n",
            "        [   0,    0,    0,  ...,  450,  275,  132],\n",
            "        [   0,    0,    0,  ...,    5,   27,   32],\n",
            "        ...,\n",
            "        [   0,    0,    0,  ...,   19,    3,  855],\n",
            "        [   0,    0,    0,  ...,    9,   22, 2730],\n",
            "        [   0,    0,    0,  ...,    0,  231,   53]])\n",
            "\n",
            "Sample label size:  torch.Size([64])\n",
            "Sample label: \n",
            " tensor([2., 2., 2., 2., 2., 2., 2., 2., 2., 0., 2., 2., 2., 2., 2., 2., 2., 0.,\n",
            "        0., 1., 2., 2., 2., 2., 1., 2., 1., 0., 2., 2., 2., 2., 2., 2., 2., 2.,\n",
            "        2., 2., 2., 0., 2., 2., 2., 2., 2., 2., 2., 2., 2., 2., 2., 2., 2., 2.,\n",
            "        2., 2., 2., 2., 2., 2., 2., 2., 2., 2.], dtype=torch.float64)\n"
          ]
        }
      ]
    },
    {
      "cell_type": "markdown",
      "source": [
        "# Sentiment Analysis"
      ],
      "metadata": {
        "id": "ZshUVuGKw4HQ"
      }
    },
    {
      "cell_type": "markdown",
      "source": [
        "## Positional Embedding Layer"
      ],
      "metadata": {
        "id": "ntuVu_0fwiZ7"
      }
    },
    {
      "cell_type": "code",
      "source": [
        "### custom embedding layer\n",
        "class ZeroEmbedding(nn.Embedding):\n",
        "    def reset_parameters(self):\n",
        "        self.weight.data.zero_()\n",
        "        if self.padding_idx is not None:\n",
        "            self.weight.data[self.padding_idx].fill_(0.0)"
      ],
      "metadata": {
        "id": "Zv5eYD7Du7X9"
      },
      "execution_count": 20,
      "outputs": []
    },
    {
      "cell_type": "code",
      "source": [
        "### add positional embeddings to the tokens (words)\n",
        "class PositionalEmbedding(nn.Module): # for now using the one provided, investigating an article.\n",
        "    def __init__(self, sequence_length, input_dim, output_dim):\n",
        "        super(PositionalEmbedding, self).__init__()\n",
        "        # embedding layers to map words to vectors\n",
        "        self.token_embeddings = nn.Embedding(input_dim, output_dim)\n",
        "        # embedding layers to map position index to vectors\n",
        "        self.position_embeddings = ZeroEmbedding(sequence_length, output_dim)\n",
        "        self.sequence_length = sequence_length\n",
        "\n",
        "    def forward(self, inputs):\n",
        "        length = inputs.size(-1)\n",
        "        device = inputs.device\n",
        "        # compute positions\n",
        "        positions = torch.arange(0, self.sequence_length).unsqueeze(0).to(device)\n",
        "        # compute the word embeddings\n",
        "        embedded_tokens = self.token_embeddings(inputs)\n",
        "        # compute the positional embeddings\n",
        "        embedded_positions = self.position_embeddings(positions)\n",
        "        # return the final embeddings\n",
        "        return embedded_tokens + embedded_positions"
      ],
      "metadata": {
        "id": "xPB7YWSm7z-h"
      },
      "execution_count": 21,
      "outputs": []
    },
    {
      "cell_type": "code",
      "source": [
        "### hyperparameters for embedding layers\n",
        "vocab_size = len(vocab_to_int)+1  # +1 for the 0 padding\n",
        "embed_dim = 512 # dimension used in the \"Atention is all you need\""
      ],
      "metadata": {
        "id": "sLCSIWU19bUp"
      },
      "execution_count": 22,
      "outputs": []
    },
    {
      "cell_type": "code",
      "source": [
        "### define the embedding layer with positional information\n",
        "input_embed = PositionalEmbedding(seq_length, vocab_size, embed_dim)"
      ],
      "metadata": {
        "id": "r58HPw-V9cda"
      },
      "execution_count": 23,
      "outputs": []
    },
    {
      "cell_type": "code",
      "source": [
        "### check the shape of each batch\n",
        "dataiter = iter(train_loader)\n",
        "sample_x, sample_y = next(dataiter)\n",
        "sample_x.shape, sample_y.shape"
      ],
      "metadata": {
        "colab": {
          "base_uri": "https://localhost:8080/"
        },
        "id": "DdSYVi7Y9dkC",
        "outputId": "de4c0bf7-49d4-4dbe-f9d4-a5f43f203c4e"
      },
      "execution_count": 24,
      "outputs": [
        {
          "output_type": "execute_result",
          "data": {
            "text/plain": [
              "(torch.Size([64, 200]), torch.Size([64]))"
            ]
          },
          "metadata": {},
          "execution_count": 24
        }
      ]
    },
    {
      "cell_type": "code",
      "source": [
        "### check if the positional embedding function works\n",
        "sample_emd = input_embed(sample_x)\n",
        "sample_emd.shape"
      ],
      "metadata": {
        "colab": {
          "base_uri": "https://localhost:8080/"
        },
        "id": "4MUVV9kM9ejY",
        "outputId": "d4292579-be20-493b-ea92-639b872cb7da"
      },
      "execution_count": 25,
      "outputs": [
        {
          "output_type": "execute_result",
          "data": {
            "text/plain": [
              "torch.Size([64, 200, 512])"
            ]
          },
          "metadata": {},
          "execution_count": 25
        }
      ]
    },
    {
      "cell_type": "markdown",
      "source": [
        "## Transformer Encoder"
      ],
      "metadata": {
        "id": "VGqyn5_pEXba"
      }
    },
    {
      "cell_type": "code",
      "source": [
        "### build the transfomer\n",
        "class TransformerEncoder(nn.Module):\n",
        "    def __init__(self, embed_dim, dense_dim, num_heads):\n",
        "        super(TransformerEncoder, self).__init__()\n",
        "        self.embed_dim = embed_dim\n",
        "        self.dense_dim = dense_dim\n",
        "        self.num_heads = num_heads\n",
        "\n",
        "        # multihead attention layer\n",
        "        self.attention = nn.MultiheadAttention(embed_dim, num_heads,batch_first=True)\n",
        "\n",
        "\n",
        "        # two-layer feed-forward\n",
        "        self.dense_proj = nn.Sequential(\n",
        "            nn.Linear(embed_dim, dense_dim),\n",
        "            nn.ReLU(),\n",
        "            nn.Linear(dense_dim, embed_dim)\n",
        "        )\n",
        "        # normalization layers\n",
        "        self.layernorm_1 = nn.LayerNorm(embed_dim)\n",
        "        self.layernorm_2 = nn.LayerNorm(embed_dim)\n",
        "\n",
        "    def forward(self, inputs):\n",
        "        attention_output, _ = self.attention(query=inputs, key=inputs, value=inputs)\n",
        "        proj_input = self.layernorm_1(inputs + attention_output)\n",
        "        proj_output = self.dense_proj(proj_input)\n",
        "        return self.layernorm_2(proj_input + proj_output)"
      ],
      "metadata": {
        "id": "dVss05uGEWwI"
      },
      "execution_count": 26,
      "outputs": []
    },
    {
      "cell_type": "markdown",
      "source": [
        "## Building Model with Transformer"
      ],
      "metadata": {
        "id": "lnGYaQxhE48_"
      }
    },
    {
      "cell_type": "code",
      "source": [
        "class TransformerEncoderModel(nn.Module):\n",
        "    def __init__(self, vocab_size, embed_dim, num_heads, dense_dim, sequence_length):\n",
        "        super(TransformerEncoderModel, self).__init__()\n",
        "\n",
        "        # embedding layer that maps word to vectors\n",
        "        self.embedding = PositionalEmbedding(sequence_length, vocab_size, embed_dim)\n",
        "\n",
        "        # add transformer encoder\n",
        "        self.transformer_encoder = TransformerEncoder(embed_dim, dense_dim, num_heads)\n",
        "\n",
        "        self.dropout = nn.Dropout(0.2)\n",
        "        self.fc = nn.Linear(embed_dim, 3)\n",
        "        self.logsoftmax = nn.LogSoftmax(dim = 1)\n",
        "\n",
        "    def forward(self, inputs):\n",
        "        x = self.embedding(inputs)\n",
        "        x = self.transformer_encoder(x)\n",
        "        x,_ = torch.max(x, dim=1)\n",
        "        x = self.dropout(x)\n",
        "        x = self.fc(x)\n",
        "        return self.logsoftmax(x) # we are using NLLLoss\n"
      ],
      "metadata": {
        "id": "hiV07_ObGK3P"
      },
      "execution_count": 27,
      "outputs": []
    },
    {
      "cell_type": "code",
      "source": [
        "# build the initial model\n",
        "num_heads = 2 # play with this parameter\n",
        "dense_dim = 1024 # play with this parameter\n",
        "model = TransformerEncoderModel(vocab_size, embed_dim, num_heads, dense_dim, seq_length)\n",
        "print(model)"
      ],
      "metadata": {
        "colab": {
          "base_uri": "https://localhost:8080/"
        },
        "id": "8DdSBP4hE4xq",
        "outputId": "2fdbb69d-77a7-4bc4-ae88-75dac3241ddb"
      },
      "execution_count": 28,
      "outputs": [
        {
          "output_type": "stream",
          "name": "stdout",
          "text": [
            "TransformerEncoderModel(\n",
            "  (embedding): PositionalEmbedding(\n",
            "    (token_embeddings): Embedding(352844, 512)\n",
            "    (position_embeddings): ZeroEmbedding(200, 512)\n",
            "  )\n",
            "  (transformer_encoder): TransformerEncoder(\n",
            "    (attention): MultiheadAttention(\n",
            "      (out_proj): NonDynamicallyQuantizableLinear(in_features=512, out_features=512, bias=True)\n",
            "    )\n",
            "    (dense_proj): Sequential(\n",
            "      (0): Linear(in_features=512, out_features=1024, bias=True)\n",
            "      (1): ReLU()\n",
            "      (2): Linear(in_features=1024, out_features=512, bias=True)\n",
            "    )\n",
            "    (layernorm_1): LayerNorm((512,), eps=1e-05, elementwise_affine=True)\n",
            "    (layernorm_2): LayerNorm((512,), eps=1e-05, elementwise_affine=True)\n",
            "  )\n",
            "  (dropout): Dropout(p=0.2, inplace=False)\n",
            "  (fc): Linear(in_features=512, out_features=3, bias=True)\n",
            "  (logsoftmax): LogSoftmax(dim=1)\n",
            ")\n"
          ]
        }
      ]
    },
    {
      "cell_type": "code",
      "source": [
        "### check the shape of each batch and output\n",
        "dataiter = iter(train_loader)\n",
        "sample_x, sample_y = next(dataiter)\n",
        "sample_output = model(sample_x)\n",
        "\n",
        "sample_x.shape, sample_y.shape"
      ],
      "metadata": {
        "colab": {
          "base_uri": "https://localhost:8080/"
        },
        "id": "cOBiwCQYIoiy",
        "outputId": "7155d2e3-3366-4b61-9dce-e83f83ccfc10"
      },
      "execution_count": 29,
      "outputs": [
        {
          "output_type": "execute_result",
          "data": {
            "text/plain": [
              "(torch.Size([64, 200]), torch.Size([64]))"
            ]
          },
          "metadata": {},
          "execution_count": 29
        }
      ]
    },
    {
      "cell_type": "code",
      "source": [
        "print('Sample input size: ', sample_x.size()) # batch_size, seq_length\n",
        "print('Sample input: \\n', sample_x)\n",
        "print()\n",
        "print('Sample label size: ', sample_output.size()) # batch_size\n",
        "# print('Sample label: \\n', sample_output)"
      ],
      "metadata": {
        "colab": {
          "base_uri": "https://localhost:8080/"
        },
        "id": "at7SBsixaURI",
        "outputId": "6dfde04d-a6db-4b33-e3df-1147e6655ba3"
      },
      "execution_count": 30,
      "outputs": [
        {
          "output_type": "stream",
          "name": "stdout",
          "text": [
            "Sample input size:  torch.Size([64, 200])\n",
            "Sample input: \n",
            " tensor([[    20,      4,    332,  ...,   2150,     34,   1659],\n",
            "        [     0,      0,      0,  ...,     27,   1507,   1251],\n",
            "        [     0,      0,      0,  ...,      9,     22,     43],\n",
            "        ...,\n",
            "        [     0,      0,      0,  ...,   1816,      7,    252],\n",
            "        [     0,      0,      0,  ...,    806,    192,      9],\n",
            "        [   125,     89,     80,  ...,    728,     14, 248044]])\n",
            "\n",
            "Sample label size:  torch.Size([64, 3])\n"
          ]
        }
      ]
    },
    {
      "cell_type": "markdown",
      "source": [
        "## Training and Evaluation"
      ],
      "metadata": {
        "id": "QUo-yzSRstzn"
      }
    },
    {
      "cell_type": "code",
      "source": [
        "### move model to GPU\n",
        "model = model.to(device)\n",
        "# if(gpu_available):\n",
        "#     model.cuda()\n",
        "\n",
        "# select the criterion\n",
        "criterion = nn.NLLLoss() # NLLLoss/CrossEntropyLoss: multi-classification"
      ],
      "metadata": {
        "id": "e1fRg-7hstpW"
      },
      "execution_count": 31,
      "outputs": []
    },
    {
      "cell_type": "code",
      "source": [
        "### training function\n",
        "def training_f(model, train_loader, val_loader, num_epochs = 1, learn = 0.001, l2 = 0):\n",
        "    optimizer = torch.optim.Adam(model.parameters(), lr = learn, weight_decay = l2) # adam optimizer\n",
        "    max_acc = 0\n",
        "    for epoch in range(num_epochs):\n",
        "        model.train()\n",
        "        total_loss = 0.0\n",
        "\n",
        "        ### training\n",
        "        for inputs, labels in train_loader:\n",
        "            inputs,labels = inputs.to(device), labels.to(device)\n",
        "\n",
        "            # get predictions\n",
        "            outputs = model(inputs).squeeze(1)\n",
        "            # calculate loss\n",
        "            loss = criterion(outputs, labels.to(torch.int64))\n",
        "            # reset the gradients\n",
        "            optimizer.zero_grad()\n",
        "            # backwards propagations\n",
        "            loss.backward()\n",
        "            # update the weights\n",
        "            optimizer.step()\n",
        "\n",
        "            total_loss += loss.item()\n",
        "\n",
        "        # print training loss\n",
        "        print(f\"Epoch {epoch + 1}/{num_epochs}, Training Loss: {total_loss / len(train_loader)}\")\n",
        "\n",
        "        ### validation loop\n",
        "        model.eval()\n",
        "        correct = 0\n",
        "        total = 0\n",
        "        with torch.inference_mode():\n",
        "            for inputs, labels in valid_loader:\n",
        "                inputs, labels = inputs.to(device), labels.to(device)\n",
        "\n",
        "                # get predictions\n",
        "                outputs = model(inputs).squeeze(1)\n",
        "                # compute probabilites\n",
        "                outputs_prob = torch.exp(outputs)\n",
        "                # label the prediction\n",
        "                maxlog, predicted = torch.max(outputs_prob, dim = 1, keepdim=False)\n",
        "                # add the number of labels (batch size)\n",
        "                total += labels.size(0)\n",
        "                # check if the label is correct\n",
        "                correct += (predicted == labels).sum().item()\n",
        "                # compute the loss\n",
        "                val_loss = criterion(outputs, labels.to(torch.int64)) # just in case we want to use it\n",
        "\n",
        "\n",
        "        val_acc = 100 * correct / total\n",
        "        print(f\"Epoch {epoch + 1}/{num_epochs}, Validation Accuracy: {val_acc:.2f}%\")\n",
        "\n",
        "        ### saving model\n",
        "        if val_acc >= max_acc:\n",
        "            max_acc = val_acc # change new valid loss min\n",
        "            print(\"Validation Accuaracy Incremented :D\")\n",
        "            torch.save(model.state_dict(), \"model_cf.pt\") # save model\n",
        "        print()\n"
      ],
      "metadata": {
        "id": "QlUOeRFtzYGV"
      },
      "execution_count": 32,
      "outputs": []
    },
    {
      "cell_type": "code",
      "source": [
        "# training benchmark model\n",
        "training_f(model, train_loader, valid_loader, num_epochs = 6, learn = 0.005, l2 = 0.001)"
      ],
      "metadata": {
        "id": "fbZdhrNWGuX9"
      },
      "execution_count": null,
      "outputs": []
    },
    {
      "cell_type": "code",
      "source": [
        "# ### try new hyperparameters\n",
        "train_loader_n = DataLoader(train_data, shuffle = True, batch_size = batch_size,  drop_last = True)\n",
        "valid_loader_n = DataLoader(valid_data, shuffle = True, batch_size = batch_size, drop_last = True)\n",
        "test_loader_n = DataLoader(test_data, shuffle = True, batch_size = batch_size, drop_last = True)\n",
        "\n",
        "model_n = TransformerEncoderModel(vocab_size, embed_dim * 2, num_heads * 2, dense_dim, seq_length).to(device)\n",
        "training_f(model_n, train_loader_n, valid_loader_n, num_epochs = 6, learn = 0.001, l2 = 0.0001)"
      ],
      "metadata": {
        "id": "tgaXfAXOucPN"
      },
      "execution_count": 34,
      "outputs": []
    },
    {
      "cell_type": "markdown",
      "source": [
        "## Testing"
      ],
      "metadata": {
        "id": "8bey8BcoDPKF"
      }
    },
    {
      "cell_type": "code",
      "source": [
        "### testing function\n",
        "def testing_f(model, test_loader, batch_size = 64):\n",
        "  test_losses = []\n",
        "  model.eval()\n",
        "  predictions = np.zeros(len(test_loader) * batch_size)\n",
        "  all_labels = np.zeros(len(test_loader) * batch_size)\n",
        "  correct = 0\n",
        "  total = 0\n",
        "  i = 0\n",
        "\n",
        "  with torch.inference_mode():\n",
        "    for inputs, labels in test_loader:\n",
        "      inputs, labels = inputs.to(device), labels.to(device)\n",
        "\n",
        "      # get predictions\n",
        "      outputs = model(inputs).squeeze(1)\n",
        "      # compute probabilites\n",
        "      outputs_prob = torch.exp(outputs)\n",
        "      # label the prediction\n",
        "      maxlog, predicted = torch.max(outputs_prob, dim = 1, keepdim=False)\n",
        "      # add the number of labels (batch size)\n",
        "      total += labels.size(0)\n",
        "      # check if the label is correct\n",
        "      correct += (predicted == labels).sum().item()\n",
        "      # compute the loss\n",
        "      test_loss = criterion(outputs, labels.to(torch.int64))\n",
        "      # store loss\n",
        "      test_losses.append(test_loss.item())\n",
        "\n",
        "      predictions[i:i+len(labels)] = predicted.to(\"cpu\").numpy()\n",
        "      all_labels[i:i+len(labels)] = labels.to(\"cpu\").numpy()\n",
        "      i += len(labels)\n",
        "\n",
        "  print(\"Mean Test loss: {:.3f}\".format(np.mean(test_losses)))\n",
        "  test_acc = 100 * correct / total\n",
        "  print(f\"Test Accuracy: {test_acc:.2f}%\")\n",
        "\n",
        "  return predictions, all_labels"
      ],
      "metadata": {
        "id": "-p1ZqWOdDOZW"
      },
      "execution_count": 35,
      "outputs": []
    },
    {
      "cell_type": "code",
      "source": [
        "### test model\n",
        "predictions, all_labels = testing_f(model, test_loader, batch_size)"
      ],
      "metadata": {
        "id": "UqQ-YoNd5Kmc"
      },
      "execution_count": null,
      "outputs": []
    },
    {
      "cell_type": "markdown",
      "source": [
        "## Confusion Matrix"
      ],
      "metadata": {
        "id": "rI7MHgX91IsI"
      }
    },
    {
      "cell_type": "code",
      "source": [
        "### confusion matrix function\n",
        "def conf_matrix(conf_m):\n",
        "  fig = plt.figure(figsize = (5, 5))\n",
        "  plt.imshow(conf_m, interpolation = \"nearest\", cmap = \"Blues\") # afmhot_r\n",
        "  tick_marks = np.arange(3);\n",
        "  plt.xticks(tick_marks, [\"negative\", \"neutral\", \"positive\"], rotation=90);\n",
        "  plt.yticks(tick_marks, [\"negative\", \"neutral\", \"positive\"], rotation=0);\n",
        "  plt.tight_layout();\n",
        "  thresh = conf_m.max() / 2\n",
        "  for i, j in itertools.product(range(conf_m.shape[0]), range(conf_m.shape[1])):\n",
        "        coeff = f'{conf_m[i, j]}'\n",
        "        plt.text(j, i, coeff, horizontalalignment = \"center\", verticalalignment = \"center\", color = \"white\" \\\n",
        "                 if conf_m[i, j] > thresh else \"black\")\n",
        "\n",
        "  plt.ylabel('Actual');\n",
        "  plt.xlabel('Predicted');"
      ],
      "metadata": {
        "id": "18Di9tDF1GKV"
      },
      "execution_count": 37,
      "outputs": []
    },
    {
      "cell_type": "code",
      "source": [
        "### get confusion matrix\n",
        "conf_m = confusion_matrix(all_labels, predictions)"
      ],
      "metadata": {
        "id": "Dr05JvHn5Eal"
      },
      "execution_count": 38,
      "outputs": []
    },
    {
      "cell_type": "code",
      "source": [
        "### plot confusion matrix\n",
        "conf_matrix(conf_m)"
      ],
      "metadata": {
        "id": "vHmNWsnb5ZSV"
      },
      "execution_count": null,
      "outputs": []
    }
  ]
}